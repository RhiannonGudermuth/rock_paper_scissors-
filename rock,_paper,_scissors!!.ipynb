{
  "nbformat": 4,
  "nbformat_minor": 0,
  "metadata": {
    "colab": {
      "provenance": []
    },
    "kernelspec": {
      "name": "python3",
      "display_name": "Python 3"
    },
    "language_info": {
      "name": "python"
    }
  },
  "cells": [
    {
      "cell_type": "code",
      "execution_count": 2,
      "metadata": {
        "colab": {
          "base_uri": "https://localhost:8080/"
        },
        "id": "AuvCj5Dfrkls",
        "outputId": "76ade12b-7dc2-4cf5-ebde-79fb1adc9ac0"
      },
      "outputs": [
        {
          "output_type": "stream",
          "name": "stdout",
          "text": [
            "hello world\n"
          ]
        }
      ],
      "source": [
        "print(\"hello world\")"
      ]
    },
    {
      "cell_type": "code",
      "source": [
        "import random"
      ],
      "metadata": {
        "id": "tKLnu4BksQV6"
      },
      "execution_count": 5,
      "outputs": []
    },
    {
      "cell_type": "code",
      "source": [
        "\n",
        "user_action = input( \"Enter a choice (rock, paper, scissors): \")\n",
        "possible_actions = [\"rock\", \"paper\", \"scissors\"]\n",
        "computer_action = random.choice(possible_actions)\n",
        "print(f\"\\nYou chose {user_action}, computer chose {computer_action}.\\n\")\n",
        "\n",
        "if user_action == computer_action:\n",
        "   print(f\"Both players selected {user_action}. Its a tie!\")\n",
        "elif user_action == \"rock\":\n",
        "  if computer_action == \"scissors\":\n",
        "    print(\"Rock smashes scissors! You win!\")\n",
        "  else:\n",
        "    print(\"Paper covers rock! You lose.\")\n",
        "elif user_action == \"paper\":\n",
        "  if computer_action == \"rock\":\n",
        "    print(\"Paper covers rock! You win!\")\n",
        "  else:\n",
        "   print(\"Scissors cut paper! You lose.\")\n",
        "elif user_action == \"scissors\":\n",
        "  if computer_action == \"paper\":\n",
        "   print(\"Scissors cuts paper! You win!\")\n",
        "  else:\n",
        "    print(\"Rock smahes scissors! You lose.\")\n"
      ],
      "metadata": {
        "colab": {
          "base_uri": "https://localhost:8080/"
        },
        "id": "ca2nzjuEtE09",
        "outputId": "096dbe40-6ae7-49d3-c815-145f974f6176"
      },
      "execution_count": 20,
      "outputs": [
        {
          "output_type": "stream",
          "name": "stdout",
          "text": [
            "Enter a choice (rock, paper, scissors): rock\n",
            "\n",
            "You chose rock, computer chose rock.\n",
            "\n",
            "Both players selected rock. Its a tie!\n"
          ]
        }
      ]
    },
    {
      "cell_type": "code",
      "source": [
        "import random\n",
        "while True:\n",
        "  user_action = input(\"Enter a choice (rock, paper, scissors): \")\n",
        "  possible_actions = [\"rock\", \"paper\", \"scissors\"]\n",
        "  computer_action = random.choice(possible_actions)\n",
        "  print(f\"\\nYou chose {user_action}, computer chose {computer_action}.\\n\")\n",
        "\n",
        "  if user_action == computer_action:\n",
        "      print(f\"Bother players selected {user_action}. It's a tie!\")\n",
        "  elif user_action == \"rock\":\n",
        "    if computer_action == \"scissors\":\n",
        "      print(\"Rock smashes apper! You win!\")\n",
        "    else:\n",
        "      print(\"Paper covers rock! You lose.\")\n",
        "  elif user_action == \"paper\":\n",
        "    if computer_action == \"rock\":\n",
        "      print(\"Paper covers rock! You win!\")\n",
        "    else:\n",
        "      print(\"Scissors cuts paper! You lose.\")\n",
        "  elif user_action == \"scissors\":\n",
        "    if computer_action == \"paper\":\n",
        "      print(\"Scissors cuts paper! You win!\")\n",
        "    else:\n",
        "      print(\"Rock smashes scissors! You lose.\")\n",
        "\n",
        "  play_again = input(\"Play again? (y/n): \")\n",
        "  if play_again.lower() != \"y\":\n",
        "      break"
      ],
      "metadata": {
        "colab": {
          "base_uri": "https://localhost:8080/"
        },
        "id": "E19iU8wZ2Nce",
        "outputId": "f6b712e3-d3d1-44c4-c616-8625097d92f8"
      },
      "execution_count": 18,
      "outputs": [
        {
          "name": "stdout",
          "output_type": "stream",
          "text": [
            "Enter a choice (rock, paper, scissors): paper\n",
            "\n",
            "You chose paper, computer chose scissors.\n",
            "\n",
            "Scissors cuts paper! You lose.\n",
            "Play again? (y/n): y\n",
            "Enter a choice (rock, paper, scissors): rock\n",
            "\n",
            "You chose rock, computer chose rock.\n",
            "\n",
            "Bother players selected rock. It's a tie!\n",
            "Play again? (y/n): n\n"
          ]
        }
      ]
    },
    {
      "cell_type": "code",
      "source": [],
      "metadata": {
        "id": "z4nYWPfc5APe"
      },
      "execution_count": null,
      "outputs": []
    }
  ]
}